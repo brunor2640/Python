{
 "cells": [
  {
   "cell_type": "markdown",
   "metadata": {},
   "source": [
    "# Python Essencial "
   ]
  },
  {
   "cell_type": "markdown",
   "metadata": {},
   "source": [
    "- Algoritimo \n",
    "- Comentários\n",
    "- Variáveis\n",
    "- Estrutura de Seleção\n",
    "- Git\n",
    "- GitHub\n",
    "- Compartilhar Notebook no GitHub"
   ]
  },
  {
   "cell_type": "markdown",
   "metadata": {},
   "source": [
    "## CAP.1 - Algoritimo para Fritar um Ovo\n",
    "\n",
    "##### Introdução\n",
    "\n",
    "##### Passo a Passo para realizar uma  determinada tarefa\n",
    "O algoritimo é uma sequência para realizar uma determinada tarefa. Por exemplo, fritar um ovo. Quais sâo os passos para fritar um ovo:\n",
    "\n",
    "Passo 1: pegar o ovo na geladeira\n",
    "Passo 2: pegar a frigideira\n",
    "Passo 3: colcoar a frigideira no fogão\n",
    "Passo 4: ligar o fogo\n",
    "Passo 5: colocar a manteiga na frigideira\n",
    "Passo 6: quebrar ovo\n",
    "Passo 7: \n",
    "\n"
   ]
  }
 ],
 "metadata": {
  "language_info": {
   "name": "python"
  }
 },
 "nbformat": 4,
 "nbformat_minor": 2
}
