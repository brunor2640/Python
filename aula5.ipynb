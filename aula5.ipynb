{
 "cells": [
  {
   "cell_type": "markdown",
   "metadata": {},
   "source": [
    "- Aula 5\n",
    "- Verificar se o repositorio remoto esta conectado com o git remote -v\n",
    "- fazer p push para empurar os arquivos para a numvem github"
   ]
  },
  {
   "cell_type": "code",
   "execution_count": 3,
   "metadata": {},
   "outputs": [
    {
     "name": "stdout",
     "output_type": "stream",
     "text": [
      "if é vardadeiro\n",
      "verdadeiro\n",
      "finalizou o codigo\n",
      "Jabulane falso\n"
     ]
    }
   ],
   "source": [
    "programador = True \n",
    "\n",
    "if programador:\n",
    "    print('if é vardadeiro')\n",
    "    print(\"verdadeiro\")\n",
    "\n",
    "else:\n",
    "    print(\"if falso\")\n",
    "\n",
    "print('finalizou o codigo')\n",
    "\n"
   ]
  },
  {
   "cell_type": "code",
   "execution_count": 7,
   "metadata": {},
   "outputs": [
    {
     "name": "stdout",
     "output_type": "stream",
     "text": [
      "Não pode Brincar\n",
      "Pode brincar na Montanha Russa\n"
     ]
    }
   ],
   "source": [
    "idade = 15\n",
    "altura = 1.75\n",
    "# and (E)\n",
    "# or (OU)\n",
    "if idade >= 18 and altura > 1.60:\n",
    "    print('Pode brincar na Montanha Russa')\n",
    "\n",
    "else: \n",
    "    print('Não pode Brincar')\n",
    "\n",
    "idade = 15\n",
    "altura = 1.75\n",
    "\n",
    "if idade >= 18 or altura > 1.60:\n",
    "    print('Pode brincar na Montanha Russa')\n",
    "\n",
    "else:\n",
    "    print('Não pode Brincar')\n"
   ]
  },
  {
   "cell_type": "markdown",
   "metadata": {},
   "source": [
    "## Desafio \n",
    "\n",
    "- Usando o conceito de operadores e if else, crie um programa que verifica se o numero é par ou impar"
   ]
  },
  {
   "cell_type": "code",
   "execution_count": 13,
   "metadata": {},
   "outputs": [
    {
     "name": "stdout",
     "output_type": "stream",
     "text": [
      "Esse numero é impar\n"
     ]
    }
   ],
   "source": [
    "n1 = input('Digite um numero')\n",
    "\n",
    "n1 = int(n1)\n",
    "\n",
    "if (n1 % 2 == 0):\n",
    "    print(f'O numero{n1} é par!')\n",
    "\n",
    "else:\n",
    "    print(f'O numero {n1} é impar!')"
   ]
  },
  {
   "cell_type": "markdown",
   "metadata": {},
   "source": [
    "## Desafio 2\n",
    "- Um elevador de carga possui capacidade para 200kg.\n",
    " - Crie um programa que receba do usuario o peso da carga, ou seu peso e verifica se a carga esta\n",
    "autorizada a usar o elevador ou não."
   ]
  },
  {
   "cell_type": "code",
   "execution_count": 29,
   "metadata": {},
   "outputs": [
    {
     "name": "stdout",
     "output_type": "stream",
     "text": [
      "Pode subir\n"
     ]
    }
   ],
   "source": [
    "peso = input('Digite seu peso')\n",
    "carga = input('Digite o peso da carga')\n",
    "\n",
    "peso = int(peso)\n",
    "carga = int(carga)\n",
    "peso_total = peso + carga\n",
    "\n",
    "capacidade = 200\n",
    "\n",
    "\n",
    "if (peso_total <= capacidade):\n",
    "    print('Pode subir')\n",
    "\n",
    "else:\n",
    "    print('Não pode subir')\n"
   ]
  },
  {
   "cell_type": "code",
   "execution_count": 32,
   "metadata": {},
   "outputs": [
    {
     "name": "stdout",
     "output_type": "stream",
     "text": [
      "O Beltrano está em recuperação\n"
     ]
    }
   ],
   "source": [
    "nome = \"Beltrano\"\n",
    "nota = 5\n",
    "\n",
    "if nota >=7:\n",
    "    print(f\"O {nome} foi aprovado\")\n",
    "elif nota >=5:\n",
    "    print(f\"O {nome} está em recuperação\")\n",
    "else:\n",
    "    print(f\"O {nome} está reprovado\")"
   ]
  },
  {
   "cell_type": "markdown",
   "metadata": {},
   "source": [
    "## Desafio 3\n",
    "- Crie um sistema para coletar os dados do aluno, (nome, idade, cpf), em seguida solicite as notas dos 4 bimestres da diciplina de Python que o aluno teve para verificar a MEDIA.\n",
    "    - Media para aprovação >= 7\n",
    "    - Media para recuperação >= 5\n",
    "    - Media para reprovação = <5\n",
    "- Para retirar o boletim de notas, o aluno precisa ser maior de idade(18) e caso não seja, somente os pais podem retirar o boletim.\n",
    "    - Imprima as informações do aluno\n",
    "    - Imprima as notas do aluno em cada bimestre\n",
    "    - Imprima a situação do aluno (aprovado, reprovado, recuperação)\n",
    "    - Imprima se o boletim sera retirado pelos pais ou pelo proprio aluno"
   ]
  },
  {
   "cell_type": "code",
   "execution_count": 64,
   "metadata": {},
   "outputs": [
    {
     "name": "stdout",
     "output_type": "stream",
     "text": [
      "Menor de idade, Retirada somente com os pais\n",
      "Aprovado\n"
     ]
    }
   ],
   "source": [
    "nome = input(\"Digite seu Nome\")\n",
    "idade = input(\"Digite sua Idade\")\n",
    "cpf = input(\"Digite seu CPF\")\n",
    "\n",
    "n1 = input(\"Digite sua  Nota Primeiro Bimestre de Python\")\n",
    "n2 = input(\"Digite a Nota do Segundo Bimestre de Python\")\n",
    "n3 = input(\"Digite a Nota do Terceiro Bimestre de Python\")\n",
    "n4 = input(\"DIgite a Nota do Quarto Bimestre de Python\")\n",
    "\n",
    "cpf = str(cpf)\n",
    "n1 = int(n1)\n",
    "n2 = int(n2)\n",
    "n3 = int(n3)\n",
    "n4 = int(n4)\n",
    "\n",
    "media = (n1 + n2 + n3 + n4) / 4\n",
    "idade = 0\n",
    "\n",
    "\n",
    "if idade >=18:\n",
    "  print (f'Aluno: {nome}')\n",
    "  print (f'Primeiro Bimestre: {n1}')\n",
    "  print (f'Segundo Bimestre: {n2}')\n",
    "  print (f'Terceiro Bimestre: {n3}')\n",
    "  print (f'Quarto Bimestre: {n4}')\n",
    "  print (f'Media das Notas: {media}')\n",
    "else:\n",
    "   print (\"Menor de idade, Retirada somente com os pais\")\n",
    "\n",
    "if media >=7: \n",
    "   print(\"Aprovado\")\n",
    "elif media >= 5:\n",
    "   print(\"Recuperação\")\n",
    "else:\n",
    "  print(\"Reprovado\")"
   ]
  },
  {
   "cell_type": "code",
   "execution_count": 66,
   "metadata": {},
   "outputs": [
    {
     "name": "stdout",
     "output_type": "stream",
     "text": [
      "Menor de idade, Retirada somente com os pais\n"
     ]
    }
   ],
   "source": [
    "# Correção\n",
    "nome = input(\"Digite seu Nome\").upper()\n",
    "idade = input(\"Digite sua Idade\")\n",
    "idade = int(idade)\n",
    "\n",
    "n1 = input(\"Digite sua  Nota Primeiro Bimestre de Python\")\n",
    "n2 = input(\"Digite a Nota do Segundo Bimestre de Python\")\n",
    "n3 = input(\"Digite a Nota do Terceiro Bimestre de Python\")\n",
    "n4 = input(\"DIgite a Nota do Quarto Bimestre de Python\")\n",
    "\n",
    "n1 = float(n1)\n",
    "n2 = float(n2)\n",
    "n3 = float(n3)\n",
    "n4 = float(n4)\n",
    "\n",
    "media = (n1 + n2 + n3 + n4) / 4\n",
    "if idade >=18:\n",
    "  print (f'Aluno: {nome}')\n",
    "  print (f'Primeiro Bimestre: {n1}')\n",
    "  print (f'Segundo Bimestre: {n2}')\n",
    "  print (f'Terceiro Bimestre: {n3}')\n",
    "  print (f'Quarto Bimestre: {n4}')\n",
    "  print (f'Media das Notas: {media}')\n",
    "  if media >=7: \n",
    "    print(\"Aprovado\")\n",
    "  elif media >= 5:\n",
    "   print(\"Recuperação\")\n",
    "  else:\n",
    "   print(\"Reprovado\")\n",
    "else:\n",
    "  print (\"Menor de idade, Retirada somente com os pais\")\n",
    "    "
   ]
  },
  {
   "cell_type": "code",
   "execution_count": null,
   "metadata": {},
   "outputs": [],
   "source": []
  }
 ],
 "metadata": {
  "kernelspec": {
   "display_name": ".venv",
   "language": "python",
   "name": "python3"
  },
  "language_info": {
   "codemirror_mode": {
    "name": "ipython",
    "version": 3
   },
   "file_extension": ".py",
   "mimetype": "text/x-python",
   "name": "python",
   "nbconvert_exporter": "python",
   "pygments_lexer": "ipython3",
   "version": "3.12.4"
  }
 },
 "nbformat": 4,
 "nbformat_minor": 2
}
