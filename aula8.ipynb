{
 "cells": [
  {
   "cell_type": "markdown",
   "metadata": {},
   "source": [
    "- Aula 08\n",
    "A essa altura do campeonato, você já deve ter visto que os programas só rodam uma única vez. Caso o usuário deseje rodar o programa\n",
    "de novo, ele deverá executar mais uma vez o programa, o que torna a tarefa de executar um programa cansativo, visto que o usuário \n",
    "deverá rodar várias vezes "
   ]
  },
  {
   "cell_type": "markdown",
   "metadata": {},
   "source": [
    "- BREAK\n",
    "O comando Break faz o contrário: encerra imediatamente o loop e vai para a o final do programa, sem terminar o loop, mesmo que a condição esteja sendo atendida:"
   ]
  },
  {
   "cell_type": "code",
   "execution_count": 1,
   "metadata": {},
   "outputs": [
    {
     "name": "stdout",
     "output_type": "stream",
     "text": [
      "2\n",
      "Contando...\n",
      "4\n",
      "Contando...\n",
      "6\n",
      "Contando...\n"
     ]
    }
   ],
   "source": [
    "cont = 0\n",
    "\n",
    "while cont < 15:\n",
    "    cont += 1\n",
    "    if cont % 2 == 0:\n",
    "        print(cont)\n",
    "    elif cont >= 7:\n",
    "        break\n",
    "    else:\n",
    "        continue\n",
    "\n",
    "    print('Contando...')"
   ]
  },
  {
   "cell_type": "markdown",
   "metadata": {},
   "source": [
    "PASS\n",
    "- o comando pass é "
   ]
  },
  {
   "cell_type": "code",
   "execution_count": 1,
   "metadata": {},
   "outputs": [
    {
     "name": "stdout",
     "output_type": "stream",
     "text": [
      "bruno é menor de idade.\n"
     ]
    }
   ],
   "source": [
    "# loop\n",
    "\n",
    "while True:\n",
    "    # entrada do nome\n",
    "    nome = input(\"Informe o seu nome ou deixe em branco para sair: \")\n",
    "\n",
    "    # verifica se o valor foi informado ou não\n",
    "    if nome != '':\n",
    "       # entrada da idade\n",
    "       idade = int(input('Informe sua idade: '))\n",
    "\n",
    "       # verificação da idade\n",
    "       if idade >= 18:\n",
    "        print(f'{nome} é maior de idade')\n",
    "       else:\n",
    "        print(f'{nome} é menor de idade.')\n",
    "\n",
    "       continue\n",
    "    else:\n",
    "       break # encerra o loop\n",
    "           \n"
   ]
  },
  {
   "cell_type": "code",
   "execution_count": 5,
   "metadata": {},
   "outputs": [
    {
     "name": "stdout",
     "output_type": "stream",
     "text": [
      "chico IMC: 19.591836734693878: está acima do peso\n",
      "chica IMC: 7.13436385255648: está com anorexia\n",
      "bruno IMC: 27.777777777777775: está com grau de obesidade I\n",
      "bruna IMC: 19.113573407202217: está acima do peso\n"
     ]
    }
   ],
   "source": [
    "# calculadora de IMC\n",
    "while True:\n",
    "  \n",
    "  nome = input('Informe o seu nome: ')\n",
    "  opcao = input('Deseja calcular um IMC? (s/n)').lower() # mesmo que o \n",
    "\n",
    "  if opcao  == 's':\n",
    "  \n",
    "   altura = input('Digite sua Altura').replace(',','.')\n",
    "   peso = input('Digite seu peso').replace(',','.')\n",
    "\n",
    "   altura = float(altura)\n",
    "   peso = float(peso)\n",
    "\n",
    "   imc = peso / (altura * altura)\n",
    "  \n",
    " \n",
    "   if imc <= 17:\n",
    "       print(f'{nome} IMC: {imc}: está com anorexia')\n",
    "   elif imc > 17 and imc <= 18.5:\n",
    "      print(f'{nome} IMC: {imc}: está abaixo do peso')\n",
    "   elif imc > 18.5 and  imc <= 25:\n",
    "      print(f'{nome} IMC: {imc}: está acima do peso')\n",
    "   elif imc > 25 and imc <= 30:\n",
    "      print (f'{nome} IMC: {imc}: está com grau de obesidade I') \n",
    "   elif imc > 30 and imc <= 35  :\n",
    "      print (f'{nome} IMC: {imc}: está com grau de obesidade II')\n",
    "   else:\n",
    "      print(f'{nome} IMC: {imc}: está com grau de obesidade mórbida')\n",
    "      continue\n",
    "  elif opcao == 'n':\n",
    "   print('Saindo do sistema')\n",
    "     \n",
    "  else:\n",
    "   print('Opção Invalida!') \n",
    "   break"
   ]
  },
  {
   "cell_type": "code",
   "execution_count": null,
   "metadata": {},
   "outputs": [],
   "source": [
    "# Calculadora\n",
    "while True:\n",
    "  nome = input('Digite seu Nome')\n",
    "  opcao = input(f'{nome} Deseja calcular algo? (s/n)')\n",
    "  if opcao == 's':\n",
    "   n1 = input('Digite um número')\n",
    "   operacao = input('Qual operação deseja fazer? +, -, *, /')\n",
    "   n2 = input('Digite outro número')\n",
    "\n",
    "\n",
    "   n1 = int(n1)\n",
    "   n2 = int(n2)\n",
    "\n",
    "   adicao = n1 + n2\n",
    "   subtracao = n1 - n2\n",
    "   divisao = n1 / n2\n",
    "   multiplicacao = n1 * n2\n",
    "\n",
    "   if operacao == '+':\n",
    "    print(f'{nome}: O resultado é: ', adicao)\n",
    "   elif subtracao == '-':\n",
    "    print(f'O resultado é: ', subtracao)\n",
    "   elif divisao == '/':\n",
    "    print(f'O resultado é: ', divisao)\n",
    "   else:\n",
    "    print(f'O resultado é: ', multiplicacao)\n"
   ]
  },
  {
   "cell_type": "markdown",
   "metadata": {},
   "source": [
    "- Crie um programa que liste 5 salas de cinema, e mostre os filmes de casa uma das salas\n",
    "e suas classifialções indicativas. O usuário deverá informar sua idade e a sala com o filme\n",
    "desejado. Caso o usuário tenha idade mínima para ver o filme, o programa irá imprimir o \n",
    "ingresso para o filme desejado. Caso o usuário não tenha idade mínima, o progrmao programa\n",
    "deverá informar que ele não tem idade para ver o fime, e deverá retornar a lista de filmes\n",
    "para que o usuário escolha outro filme."
   ]
  },
  {
   "cell_type": "code",
   "execution_count": 8,
   "metadata": {},
   "outputs": [
    {
     "name": "stdout",
     "output_type": "stream",
     "text": [
      "Sala 1 - Filme: As Branquelas - Classificação +16 anos\n",
      "Sala 2 - Filme: Batman - Classificação +16 anos\n",
      "Sala 3 - Filme: Homem de Ferro - Classificação +16 anos\n",
      "Sala 4 - Filme: Parque dos Dinossauros - Classificação +14 anos\n",
      "Sala 5 - Filme: Esqueceram de mim - Classificação Livre\n"
     ]
    },
    {
     "ename": "NameError",
     "evalue": "name 'sala1' is not defined",
     "output_type": "error",
     "traceback": [
      "\u001b[1;31m---------------------------------------------------------------------------\u001b[0m",
      "\u001b[1;31mNameError\u001b[0m                                 Traceback (most recent call last)",
      "Cell \u001b[1;32mIn[8], line 14\u001b[0m\n\u001b[0;32m     11\u001b[0m numSala \u001b[38;5;241m=\u001b[39m \u001b[38;5;28minput\u001b[39m(\u001b[38;5;124m'\u001b[39m\u001b[38;5;124mDigite o número da sala\u001b[39m\u001b[38;5;124m'\u001b[39m)\n\u001b[0;32m     13\u001b[0m numSala \u001b[38;5;241m=\u001b[39m \u001b[38;5;28mint\u001b[39m(numSala)\n\u001b[1;32m---> 14\u001b[0m sala1 \u001b[38;5;241m=\u001b[39m \u001b[38;5;28mint\u001b[39m(\u001b[43msala1\u001b[49m)\n\u001b[0;32m     15\u001b[0m sala2 \u001b[38;5;241m=\u001b[39m \u001b[38;5;28mint\u001b[39m(sala2)\n\u001b[0;32m     16\u001b[0m sala3 \u001b[38;5;241m=\u001b[39m \u001b[38;5;28mint\u001b[39m(sala3)\n",
      "\u001b[1;31mNameError\u001b[0m: name 'sala1' is not defined"
     ]
    }
   ],
   "source": [
    "# Cinema Taguatinga\n",
    "\n",
    "print('Sala 1 - Filme: As Branquelas - Classificação +16 anos')\n",
    "print('Sala 2 - Filme: Batman - Classificação +16 anos')\n",
    "print('Sala 3 - Filme: Homem de Ferro - Classificação +16 anos')\n",
    "print('Sala 4 - Filme: Parque dos Dinossauros - Classificação +14 anos')\n",
    "print('Sala 5 - Filme: Esqueceram de mim - Classificação Livre')\n",
    "\n",
    "while True:\n",
    " idade = input('Digite sua idade: ')\n",
    " numSala = input('Digite o número da sala')\n",
    "\n",
    " numSala = int(numSala)\n",
    " sala1 = int(sala1)\n",
    " sala2 = int(sala2)\n",
    " sala3 = int(sala3)\n",
    " sala4 = int(sala4)\n",
    " sala5 = int(sala5)\n",
    " \n",
    " if numSala == sala1 and idade > 16:\n",
    "  print(f'Pode assitir o Filme da sala')\n",
    " elif numSala == sala2 and idade > 16:\n",
    "  print(f'Pode assitir o Filme da sala:')\n",
    " elif numSala == sala3 and idade > 16:\n",
    "  print(f'Pode assistir o Filme da sala:')\n",
    " elif numSala == sala4 and idade > 14: \n",
    "  print (f'')\n",
    "else: \n",
    "  print('Pode assistir todos os filmes')"
   ]
  },
  {
   "cell_type": "code",
   "execution_count": null,
   "metadata": {},
   "outputs": [],
   "source": []
  }
 ],
 "metadata": {
  "kernelspec": {
   "display_name": ".venv",
   "language": "python",
   "name": "python3"
  },
  "language_info": {
   "codemirror_mode": {
    "name": "ipython",
    "version": 3
   },
   "file_extension": ".py",
   "mimetype": "text/x-python",
   "name": "python",
   "nbconvert_exporter": "python",
   "pygments_lexer": "ipython3",
   "version": "3.12.4"
  }
 },
 "nbformat": 4,
 "nbformat_minor": 2
}
