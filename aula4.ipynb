{
 "cells": [
  {
   "cell_type": "markdown",
   "metadata": {},
   "source": [
    "- Qual tipo de dado retorna de uma divisão\n",
    "  - tipo Float\n",
    "- 03/07/24 Aula 4"
   ]
  },
  {
   "cell_type": "code",
   "execution_count": 1,
   "metadata": {},
   "outputs": [
    {
     "name": "stdout",
     "output_type": "stream",
     "text": [
      "divisao inteira: 1\n",
      "Divisao normal: 1.0\n",
      "Resto: 0\n",
      "Exponenciação: 10000000000\n"
     ]
    }
   ],
   "source": [
    "n1 = input (\"DIgite o primeiro numero: \")\n",
    "n2 = input (\"Digite o segundo numero: \")\n",
    "\n",
    "# Convertendo as entradas para inteiro\n",
    "n1 = int(n1)\n",
    "n2 = int(n2)\n",
    "\n",
    "\n",
    "divisao_inteira = n1 // n2\n",
    "divisao = n1 / n2\n",
    "resto = n1 % n2\n",
    "expo = n1 ** n2\n",
    "\n",
    "print (f'divisao inteira: {divisao_inteira}')\n",
    "print (f'Divisao normal: {divisao}')\n",
    "print (f'Resto: {resto}')\n",
    "print (f'Exponenciação: {expo}')"
   ]
  },
  {
   "cell_type": "code",
   "execution_count": 7,
   "metadata": {},
   "outputs": [
    {
     "name": "stdout",
     "output_type": "stream",
     "text": [
      "Resultado de atribuição de subtração: 0\n",
      "|Resultado de atribuoção de soma: 10\n",
      "Resultado de atribuição de multiplicação: 100\n",
      "Resultado de atribuição de divisão: 10.0\n",
      "Resultado de atribuição de divisão inteira:1.0\n",
      "Resultado da atribuição de modulo: 1.0\n"
     ]
    }
   ],
   "source": [
    "# Atribuição subtração\n",
    "valor = 10\n",
    "valor -= 10\n",
    "print(f'Resultado de atribuição de subtração: {valor}')\n",
    "# Atribuição de soma\n",
    "valor += 10\n",
    "print(f'|Resultado de atribuoção de soma: {valor}')\n",
    "# Atribuição de multipliação\n",
    "valor *= 10\n",
    "print(f'Resultado de atribuição de multiplicação: {valor}')\n",
    "#Atribuição de divisão \n",
    "valor /= 10\n",
    "print(f'Resultado de atribuição de divisão: {valor}')\n",
    "# // duas barras = divisão inteira\n",
    "# Atribuição de divisão inteira\n",
    "valor //= 10\n",
    "print(f'Resultado de atribuição de divisão inteira:{valor}')\n",
    "# Atribuição de modulo\n",
    "valor %=10\n",
    "print (f'Resultado da atribuição de modulo: {valor}')\n",
    "\n"
   ]
  },
  {
   "cell_type": "markdown",
   "metadata": {},
   "source": [
    "## Atividade\n",
    "- Crie um programa para o boletim de notas do aluno. Guarde o nome do aluno, as notas e caulculo a media final do aluno.\n",
    " - Disciplinas:\n",
    "  - Matematica\n",
    "  - Português\n",
    "  - Geografia\n",
    "  - Historia\n",
    "  - Física\n",
    "- Ao obter as notas e a medias das notas, imprimir o boletim do aluno informando as notas das materias e com quanto ele ficou de media."
   ]
  },
  {
   "cell_type": "code",
   "execution_count": 14,
   "metadata": {},
   "outputs": [
    {
     "name": "stdout",
     "output_type": "stream",
     "text": [
      "Seu nome é chico\n",
      "As notas são: Matematica = 8.0 Português = 9.0 Geografia = 7.0 Historia = 5.0 Física = 9.0 \n",
      "A media do(a) chico é: 7.6\n"
     ]
    }
   ],
   "source": [
    "nome = input (\"Digite seu nome: \")\n",
    "print (f'Seu nome é {nome}')\n",
    "\n",
    "mat = float(input (\"Digite sua nota de Matematica: \"))\n",
    "por = float(input (\"Digite sua nota de Portugês: \"))\n",
    "geo = float(input (\"Digite sua nota de Geografia: \"))\n",
    "his = float(input (\"Digite sua nota de Historia: \"))\n",
    "fis = float(input (\"Digite sua nota de Física: \"))\n",
    "\n",
    "\n",
    "soma = (mat + por + geo + his + fis)\n",
    "print (f'As notas são: Matematica = {mat} Português = {por} Geografia = {geo} Historia = {his} Física = {fis} ')\n",
    "\n",
    "media = soma / 5\n",
    "print (f'A media do(a) {nome} é: {media}')\n"
   ]
  },
  {
   "cell_type": "code",
   "execution_count": 19,
   "metadata": {},
   "outputs": [
    {
     "name": "stdout",
     "output_type": "stream",
     "text": [
      "------------------------------ BOLETIM ESCOLAR ------------------------------\n",
      "Nome do aluno: chico\n",
      "Matematica: 8.0\n",
      "Português: 7.0\n",
      "Geografia: 9.0\n",
      "Historia 5.0\n",
      "Físia:  4.0\n",
      "A media geral do aluno foi:  6.60\n",
      "------------------------------------------------------------\n"
     ]
    }
   ],
   "source": [
    "# Resolução do Desafio Modo Professor \n",
    "\n",
    "print (30*\"-\", \"BOLETIM ESCOLAR\", 30*\"-\")\n",
    "nome = input (\"Digite seu nome: \")\n",
    "\n",
    "mat = input (\"Digite sua nota de Matematica: \")\n",
    "por = input (\"Digite sua nota de Portugês: \")\n",
    "geo = input (\"Digite sua nota de Geografia: \")\n",
    "his = input (\"Digite sua nota de Historia: \")\n",
    "fis = input (\"Digite sua nota de Física: \")\n",
    "\n",
    "mat = float (mat)\n",
    "por = float (por)\n",
    "geo = float (geo)\n",
    "his = float (his)\n",
    "fis = float (fis)\n",
    "\n",
    "media = ( mat + por + geo + his + fis) /5\n",
    "\n",
    "print (f'Nome do aluno: {nome}')\n",
    "print (f'Matematica: {mat}')\n",
    "print (f'Português: {por}')\n",
    "print (f'Geografia: {geo}')\n",
    "print (f'Historia {his}')\n",
    "print (f'Físia:  {fis}')\n",
    "\n",
    "print (f'A media geral do aluno foi: {media : .2f}')\n",
    "print (68*\"-\")"
   ]
  }
 ],
 "metadata": {
  "kernelspec": {
   "display_name": ".venv",
   "language": "python",
   "name": "python3"
  },
  "language_info": {
   "codemirror_mode": {
    "name": "ipython",
    "version": 3
   },
   "file_extension": ".py",
   "mimetype": "text/x-python",
   "name": "python",
   "nbconvert_exporter": "python",
   "pygments_lexer": "ipython3",
   "version": "3.12.4"
  }
 },
 "nbformat": 4,
 "nbformat_minor": 2
}
